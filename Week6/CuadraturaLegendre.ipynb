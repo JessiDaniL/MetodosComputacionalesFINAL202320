{
 "cells": [
  {
   "cell_type": "code",
   "execution_count": 14,
   "id": "b2b94732",
   "metadata": {},
   "outputs": [
    {
     "data": {
      "text/html": [
       "<style>.container { width:100% !important; }</style>"
      ],
      "text/plain": [
       "<IPython.core.display.HTML object>"
      ]
     },
     "metadata": {},
     "output_type": "display_data"
    }
   ],
   "source": [
    "from IPython.display import display, HTML\n",
    "display(HTML(\"<style>.container { width:100% !important; }</style>\"))\n",
    "import numpy as np\n",
    "import matplotlib.pyplot as plt\n",
    "import sympy as sym\n",
    "from scipy import integrate"
   ]
  },
  {
   "cell_type": "code",
   "execution_count": 15,
   "id": "7a2da5dc",
   "metadata": {},
   "outputs": [
    {
     "name": "stdout",
     "output_type": "stream",
     "text": [
      "Machine parameters for float128\n",
      "---------------------------------------------------------------\n",
      "precision =  18   resolution = 1e-18\n",
      "machep =    -63   eps =        1.084202172485504434e-19\n",
      "negep =     -64   epsneg =     5.42101086242752217e-20\n",
      "minexp = -16382   tiny =       3.3621031431120935063e-4932\n",
      "maxexp =  16384   max =        1.189731495357231765e+4932\n",
      "nexp =       15   min =        -max\n",
      "smallest_normal = 3.3621031431120935063e-4932   smallest_subnormal = 4e-4951\n",
      "---------------------------------------------------------------\n",
      "\n"
     ]
    }
   ],
   "source": [
    "print(np.finfo(np.float128))"
   ]
  },
  {
   "cell_type": "code",
   "execution_count": null,
   "id": "6c36ec67",
   "metadata": {},
   "outputs": [],
   "source": []
  },
  {
   "cell_type": "code",
   "execution_count": null,
   "id": "36753925",
   "metadata": {},
   "outputs": [],
   "source": []
  },
  {
   "cell_type": "code",
   "execution_count": 16,
   "id": "755b9da9",
   "metadata": {},
   "outputs": [],
   "source": [
    "def GetNewton(f,df,xn,itmax=10000,precision=1e-14):\n",
    "    \n",
    "    error = 1.\n",
    "    it = 0\n",
    "    \n",
    "    while error >= precision and it < itmax:\n",
    "        \n",
    "        try:\n",
    "            \n",
    "            xn1 = xn - f(xn)/df(xn)\n",
    "            \n",
    "            error = np.abs(f(xn)/df(xn))\n",
    "            \n",
    "        except ZeroDivisionError:\n",
    "            print('Zero Division')\n",
    "            \n",
    "        xn = xn1\n",
    "        it += 1\n",
    "        \n",
    "    if it == itmax:\n",
    "        return False\n",
    "    else:\n",
    "        return xn"
   ]
  },
  {
   "cell_type": "code",
   "execution_count": 17,
   "id": "2194b43a",
   "metadata": {},
   "outputs": [],
   "source": [
    "def GetRoots(f,df,x,tolerancia = 14):\n",
    "    \n",
    "    Roots = np.array([])\n",
    "    \n",
    "    for i in x:\n",
    "        \n",
    "        root = GetNewton(f,df,i)\n",
    "        \n",
    "        if root != False:\n",
    "            \n",
    "            croot = np.round( root, tolerancia )\n",
    "            \n",
    "            if croot not in Roots:\n",
    "                Roots = np.append(Roots, croot)\n",
    "                \n",
    "    Roots.sort()\n",
    "    \n",
    "    return Roots"
   ]
  },
  {
   "cell_type": "code",
   "execution_count": 18,
   "id": "d66340f7",
   "metadata": {},
   "outputs": [],
   "source": [
    "f = lambda x: np.sin(x)\n",
    "a = 0.\n",
    "b = 0.25*np.pi"
   ]
  },
  {
   "cell_type": "code",
   "execution_count": 19,
   "id": "c61ba950",
   "metadata": {},
   "outputs": [
    {
     "data": {
      "text/plain": [
       "(0.2928932188134524, 3.2517679528326894e-15)"
      ]
     },
     "execution_count": 19,
     "metadata": {},
     "output_type": "execute_result"
    }
   ],
   "source": [
    "# Integral usando scipy\n",
    "integrate.quad(f,a,b)"
   ]
  },
  {
   "cell_type": "code",
   "execution_count": null,
   "id": "a199d239",
   "metadata": {},
   "outputs": [],
   "source": []
  },
  {
   "cell_type": "code",
   "execution_count": null,
   "id": "14cae28a",
   "metadata": {},
   "outputs": [],
   "source": []
  }
 ],
 "metadata": {
  "kernelspec": {
   "display_name": "Python 3 (ipykernel)",
   "language": "python",
   "name": "python3"
  },
  "language_info": {
   "codemirror_mode": {
    "name": "ipython",
    "version": 3
   },
   "file_extension": ".py",
   "mimetype": "text/x-python",
   "name": "python",
   "nbconvert_exporter": "python",
   "pygments_lexer": "ipython3",
   "version": "3.9.12"
  }
 },
 "nbformat": 4,
 "nbformat_minor": 5
}
