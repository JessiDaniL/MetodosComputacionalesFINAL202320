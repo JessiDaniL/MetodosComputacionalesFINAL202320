{
 "cells": [
  {
   "cell_type": "code",
   "execution_count": 1,
   "id": "1def2d18",
   "metadata": {},
   "outputs": [],
   "source": [
    "import numpy as np\n",
    "import matplotlib.pyplot as plt\n",
    "from IPython.display import clear_output\n",
    "import time"
   ]
  },
  {
   "cell_type": "code",
   "execution_count": 2,
   "id": "935a727d",
   "metadata": {},
   "outputs": [],
   "source": [
    "def func(x):\n",
    "    return np.exp(-x) - x "
   ]
  },
  {
   "cell_type": "code",
   "execution_count": 3,
   "id": "1358a449",
   "metadata": {},
   "outputs": [],
   "source": [
    "def Muller(f,x0,x1,itmax = 10, tolerancia=1e-15):\n",
    "    \n",
    "    # Geometry\n",
    "    l0,l1 = x0,x1\n",
    "    \n",
    "    error = 1\n",
    "    it = 0\n",
    "    \n",
    "    # Tercer punto igual al punto medio\n",
    "    x2 = (x0 + x1)/2. \n",
    "    \n",
    "    while error > tolerancia and it < itmax:\n",
    "        \n",
    "        clear_output(wait=True)\n",
    "        \n",
    "        fig = plt.figure(figsize=(4,4))\n",
    "        ax = fig.add_subplot(111)\n",
    "        \n",
    "        ax.set_xlim(l0,l1)\n",
    "        ax.set_ylim(l0,l1)\n",
    "  \n",
    "        \n",
    "        # Primera diferencia dividida\n",
    "        d1 = (f(x1) - f(x0))/(x1-x0)\n",
    "        d2 = (f(x2) - f(x1))/(x2-x1)\n",
    "        \n",
    "        # Segunda diferencia dividida\n",
    "        dd2 = (d2-d1)/(x2-x0)\n",
    "        \n",
    "                \n",
    "        a = dd2\n",
    "        b = d1 - (x0+x1)*dd2\n",
    "        c = f(x0) - x0*d1 + x0*x1*dd2\n",
    "        \n",
    "        \n",
    "        if b < 0:\n",
    "            x3 = (-2*c)/(b-np.sqrt(b**2-4*a*c))\n",
    "        elif b >= 0:\n",
    "            x3 = (-2*c)/(b+np.sqrt(b**2-4*a*c))\n",
    "        \n",
    "        error = np.abs( f(x3) )\n",
    "        print('Error: ', error)\n",
    "        \n",
    "        # Plotter root \n",
    "        t = np.linspace(l0,l1,60)\n",
    "        plt.plot(t,f(t),color='k',label='Real model')\n",
    "        \n",
    "        \n",
    "        # Pintamos modelo cuadratico\n",
    "        ax.scatter([x0,x1,x2],[f(x0),f(x1),f(x2)],marker='^',color='r',label='Interpolation model: a={}, b={}, c={}'.format(a,b,c))\n",
    "        ax.plot(t,a*t**2 + b*t + c,ls='--',color='b',label='Iterations {}: root: {}, error: {}'.format(it,x3,error))\n",
    "        \n",
    "        ax.legend(loc='upper center', ncol=1, bbox_to_anchor=(0.5,1.3),frameon=False,fontsize=12)\n",
    "        \n",
    "        plt.show()\n",
    "        \n",
    "        \n",
    "        time.sleep(0.5)\n",
    "        \n",
    "        # Actualizamos la siguiente iteración\n",
    "         \n",
    "        x0 = x1\n",
    "        x1 = x2\n",
    "        x2 = x3\n",
    "        \n",
    "        it += 1\n",
    "    \n",
    "    #print('Convergencia en: ',it)\n",
    "        \n",
    "    return x3,it"
   ]
  },
  {
   "cell_type": "code",
   "execution_count": 4,
   "id": "2a2594d0",
   "metadata": {},
   "outputs": [
    {
     "name": "stdout",
     "output_type": "stream",
     "text": [
      "Error:  2.220446049250313e-16\n"
     ]
    },
    {
     "data": {
      "image/png": "[encoded data removed]",
      "text/plain": [
       "<Figure size 288x288 with 1 Axes>"
      ]
     },
     "metadata": {
      "needs_background": "light"
     },
     "output_type": "display_data"
    }
   ],
   "source": [
    "root, _ = Muller(func,-10,10)"
   ]
  },
  {
   "cell_type": "code",
   "execution_count": 5,
   "id": "3c19850a",
   "metadata": {},
   "outputs": [
    {
     "data": {
      "text/plain": [
       "0.5671432904097837"
      ]
     },
     "execution_count": 5,
     "metadata": {},
     "output_type": "execute_result"
    }
   ],
   "source": [
    "root "
   ]
  },
  {
   "cell_type": "code",
   "execution_count": 6,
   "id": "4d75f674",
   "metadata": {},
   "outputs": [],
   "source": [
    "def Muller2(f,x0,x1,itmax = 100, tolerancia=1e-14):\n",
    "    \n",
    "    error = 1\n",
    "    it = 0\n",
    "    \n",
    "    # Tercer punto igual al punto medio\n",
    "    x2 = (x0 + x1)/2. \n",
    "    \n",
    "    while error > tolerancia and it < itmax:\n",
    "        \n",
    "        \n",
    "        # Primera diferencia dividida\n",
    "        h1 = x1-x0\n",
    "        d1 = (f(x1) - f(x0))/h1\n",
    "        h2 = x2-x1\n",
    "        d2 = (f(x2) - f(x1))/h2\n",
    "          \n",
    "        print(d1,d2)\n",
    "                \n",
    "        a = (d2 - d1)/(h2-h1)\n",
    "        b = d2 + a*h2 \n",
    "        c = f(x2) \n",
    "        \n",
    "        print(a,b,c)\n",
    "        \n",
    "        # Actualizamos la siguiente iteración\n",
    "        \n",
    "        if b < 0:\n",
    "            x3 = x2 + (-2*c)/(b-np.sqrt(b**2-4*a*c))\n",
    "        elif b >= 0:\n",
    "            x3 = x2 + (-2*c)/(b+np.sqrt(b**2-4*a*c))\n",
    "        \n",
    "        error = np.abs( (x3-x2)/x3 )\n",
    "        \n",
    "        # Actualizamos\n",
    "        x0 = x1\n",
    "        x1 = x2\n",
    "        x2 = x3\n",
    "        \n",
    "        it += 1\n",
    "    \n",
    "    print('Convergencia en: ',it)\n",
    "        \n",
    "    return x3,it"
   ]
  },
  {
   "cell_type": "code",
   "execution_count": 7,
   "id": "480a3be9",
   "metadata": {},
   "outputs": [
    {
     "name": "stdout",
     "output_type": "stream",
     "text": [
      "-1.6321205588285577 -1.4773024370823822\n",
      "-0.103212081164117 -1.4256963965003238 0.10653065971263342\n",
      "-1.4773024370823822 -1.5845395526718995\n",
      "-0.18671951312885354 -1.59841691169699 -0.011235415687904649\n",
      "-1.5845395526718995 -1.5650718112433193\n",
      "-0.2392883639238626 -1.563388448539026 -0.0002253378329435396\n",
      "-1.5650718112433193 -1.5671026146100349\n",
      "-0.2947151317926327 -1.5670601351262374 5.403217383515013e-07\n",
      "-1.5671026146100349 -1.5671433883931989\n",
      "-0.2822062010598142 -1.5671434856977833 -2.867073245482743e-11\n",
      "-1.5671433883931989 -1.567141626109014\n",
      "-5.11076781406402 -1.567141626015513 0.0\n",
      "Convergencia en:  6\n"
     ]
    }
   ],
   "source": [
    "root, _ = Muller2(func,0,1)"
   ]
  },
  {
   "cell_type": "code",
   "execution_count": 8,
   "id": "82af9c33",
   "metadata": {},
   "outputs": [
    {
     "data": {
      "text/plain": [
       "0.5671432904097838"
      ]
     },
     "execution_count": 8,
     "metadata": {},
     "output_type": "execute_result"
    }
   ],
   "source": [
    "root"
   ]
  },
  {
   "cell_type": "code",
   "execution_count": null,
   "id": "d7731594",
   "metadata": {},
   "outputs": [],
   "source": []
  },
  {
   "cell_type": "code",
   "execution_count": null,
   "id": "cee89024",
   "metadata": {},
   "outputs": [],
   "source": []
  }
 ],
 "metadata": {
  "kernelspec": {
   "display_name": "Python 3 (ipykernel)",
   "language": "python",
   "name": "python3"
  },
  "language_info": {
   "codemirror_mode": {
    "name": "ipython",
    "version": 3
   },
   "file_extension": ".py",
   "mimetype": "text/x-python",
   "name": "python",
   "nbconvert_exporter": "python",
   "pygments_lexer": "ipython3",
   "version": "3.9.12"
  }
 },
 "nbformat": 4,
 "nbformat_minor": 5
}
