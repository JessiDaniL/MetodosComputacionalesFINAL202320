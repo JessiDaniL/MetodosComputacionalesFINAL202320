{
 "cells": [
  {
   "cell_type": "code",
   "execution_count": 3,
   "id": "2502fec8",
   "metadata": {},
   "outputs": [
    {
     "data": {
      "text/html": [
       "<style>.container { width:100% !important; }</style>"
      ],
      "text/plain": [
       "<IPython.core.display.HTML object>"
      ]
     },
     "metadata": {},
     "output_type": "display_data"
    }
   ],
   "source": [
    "from IPython.display import display, HTML\n",
    "display(HTML(\"<style>.container { width:100% !important; }</style>\"))\n",
    "import numpy as np\n",
    "import matplotlib.pyplot as plt\n",
    "from IPython.display import clear_output\n",
    "import time"
   ]
  },
  {
   "cell_type": "code",
   "execution_count": 4,
   "id": "8eda8383",
   "metadata": {},
   "outputs": [],
   "source": [
    "A = np.array([[3,-1,-1],[-1.,3.,1.],[2,1,4]])\n",
    "b = np.array([1.,3.,7.])"
   ]
  },
  {
   "cell_type": "code",
   "execution_count": 5,
   "id": "1ee4c843",
   "metadata": {},
   "outputs": [
    {
     "data": {
      "text/plain": [
       "array([1., 1., 1.])"
      ]
     },
     "execution_count": 5,
     "metadata": {},
     "output_type": "execute_result"
    }
   ],
   "source": [
    "np.linalg.solve(A,b)"
   ]
  },
  {
   "cell_type": "code",
   "execution_count": 31,
   "id": "6a6f3fe2",
   "metadata": {},
   "outputs": [],
   "source": [
    "def Jacobi(A,b,x0,itmax=1000,tolerancia=1e-9):\n",
    "    \n",
    "    x = x0.copy()\n",
    "    u = x.copy()\n",
    "    sumk = x.copy()\n",
    "    \n",
    "    residuo = np.linalg.norm( np.dot(A,x) - b)\n",
    "    \n",
    "    print(residuo)\n",
    "    \n",
    "    it = 0\n",
    "    \n",
    "    while residuo >= tolerancia and it < itmax:\n",
    "        \n",
    "        \n",
    "        u[:] = 0\n",
    "        sumk[:] = 0.\n",
    "        \n",
    "        for i in range(A.shape[0]):\n",
    "            for j in range(A.shape[1]):\n",
    "                if i != j:\n",
    "                    sumk[i] += A[i,j]*x[j]\n",
    "            #print(sumk)\n",
    "        \n",
    "            u[i] = (b[i] - sumk[i])/A[i,i]\n",
    "        \n",
    "        \n",
    "        x = u.copy()\n",
    "        \n",
    "        #print(x,residuo)\n",
    "       \n",
    "        residuo = np.linalg.norm( np.dot(A,x) - b)\n",
    "        \n",
    "        it += 1\n",
    "        \n",
    "        if residuo > 1000:\n",
    "            print('No calculable con Jacobi')\n",
    "            x[:] = 0.\n",
    "            break\n",
    "        \n",
    "    return x,it"
   ]
  },
  {
   "cell_type": "code",
   "execution_count": 32,
   "id": "0b2072f0",
   "metadata": {},
   "outputs": [
    {
     "name": "stdout",
     "output_type": "stream",
     "text": [
      "7.681145747868608\n"
     ]
    },
    {
     "data": {
      "text/plain": [
       "(array([1., 1., 1.]), 21)"
      ]
     },
     "execution_count": 32,
     "metadata": {},
     "output_type": "execute_result"
    }
   ],
   "source": [
    "Jacobi(A,b,np.array([0.,0.,0.]))"
   ]
  },
  {
   "cell_type": "code",
   "execution_count": 34,
   "id": "7be4ab5f",
   "metadata": {},
   "outputs": [],
   "source": [
    "A = np.random.randint(-10,10,size=(5,5))\n",
    "b = np.random.randint(-10,10,size=5)"
   ]
  },
  {
   "cell_type": "code",
   "execution_count": 35,
   "id": "8721d3f3",
   "metadata": {},
   "outputs": [
    {
     "data": {
      "text/plain": [
       "array([ 1.45588484,  0.46486029, -0.73090601,  1.58933108,  0.57713802])"
      ]
     },
     "execution_count": 35,
     "metadata": {},
     "output_type": "execute_result"
    }
   ],
   "source": [
    "np.linalg.solve(A,b)"
   ]
  },
  {
   "cell_type": "code",
   "execution_count": 36,
   "id": "15b08b67",
   "metadata": {},
   "outputs": [
    {
     "name": "stdout",
     "output_type": "stream",
     "text": [
      "13.96424004376894\n",
      "No calculable con Jacobi\n"
     ]
    },
    {
     "data": {
      "text/plain": [
       "(array([0., 0., 0., 0., 0.]), 7)"
      ]
     },
     "execution_count": 36,
     "metadata": {},
     "output_type": "execute_result"
    }
   ],
   "source": [
    "Jacobi(A,b,np.array([0.,0.,0.,0.,0.]))"
   ]
  },
  {
   "cell_type": "code",
   "execution_count": null,
   "id": "aafa8344",
   "metadata": {},
   "outputs": [],
   "source": [
    "def GetT(A):\n",
    "    \n",
    "    "
   ]
  },
  {
   "cell_type": "code",
   "execution_count": null,
   "id": "f70dbd4a",
   "metadata": {},
   "outputs": [],
   "source": []
  }
 ],
 "metadata": {
  "kernelspec": {
   "display_name": "Python 3 (ipykernel)",
   "language": "python",
   "name": "python3"
  },
  "language_info": {
   "codemirror_mode": {
    "name": "ipython",
    "version": 3
   },
   "file_extension": ".py",
   "mimetype": "text/x-python",
   "name": "python",
   "nbconvert_exporter": "python",
   "pygments_lexer": "ipython3",
   "version": "3.9.12"
  }
 },
 "nbformat": 4,
 "nbformat_minor": 5
}
